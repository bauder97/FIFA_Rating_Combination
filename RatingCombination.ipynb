{
  "nbformat": 4,
  "nbformat_minor": 0,
  "metadata": {
    "colab": {
      "name": "RatingCombination.ipynb",
      "provenance": []
    },
    "kernelspec": {
      "name": "python3",
      "display_name": "Python 3"
    },
    "language_info": {
      "name": "python"
    }
  },
  "cells": [
    {
      "cell_type": "code",
      "source": [
        "#Python script to calculate Fifa Squad Rating\n",
        "#input player ratings\n",
        "from itertools import combinations_with_replacement\n",
        "import numpy as np\n",
        "from math import floor\n",
        "print('Input player ratings you already have separated by comma (Min. 1) Ex: 82,83,84')\n",
        "current_ratings = input()\n",
        "current_ratings = list(map(int, current_ratings.split(',')))\n",
        "print(current_ratings)"
      ],
      "metadata": {
        "id": "wuJPe4BIIqy4",
        "colab": {
          "base_uri": "https://localhost:8080/"
        },
        "outputId": "e0284a98-4870-47d7-eab2-99ff2c611424"
      },
      "execution_count": 104,
      "outputs": [
        {
          "output_type": "stream",
          "name": "stdout",
          "text": [
            "Input player ratings you already have separated by comma (Min. 1) Ex: 82,83,84\n",
            "92,92,91\n",
            "[92, 92, 91]\n"
          ]
        }
      ]
    },
    {
      "cell_type": "code",
      "source": [
        "#enter range to test\n",
        "print('Input range of ratings to test separated by a comma')\n",
        "test_range = input()\n",
        "test_range = list(map(int, test_range.split(',')))\n",
        "test_range = list(range(test_range[0],test_range[1] + 1,1))\n",
        "in_current_ratings = set(current_ratings)\n",
        "in_test_range = set(test_range)\n",
        "unique_vals = in_test_range - in_current_ratings\n",
        "final_values = current_ratings + list(unique_vals)\n",
        "final_values.sort()\n",
        "final_values\n"
      ],
      "metadata": {
        "colab": {
          "base_uri": "https://localhost:8080/"
        },
        "id": "TCu2Wjj7D-Jz",
        "outputId": "985770bd-158c-444c-a8fa-b8746dafff6b"
      },
      "execution_count": 105,
      "outputs": [
        {
          "name": "stdout",
          "output_type": "stream",
          "text": [
            "Input range of ratings to test separated by a comma\n",
            "83,89\n"
          ]
        },
        {
          "output_type": "execute_result",
          "data": {
            "text/plain": [
              "[83, 84, 85, 86, 87, 88, 89, 91, 92, 92]"
            ]
          },
          "metadata": {},
          "execution_count": 105
        }
      ]
    },
    {
      "cell_type": "code",
      "source": [
        "#find rating combinations\n",
        "print('Input desired rating')\n",
        "desired_rating = int(input())\n",
        "possible_combinations = list(combinations_with_replacement(unique_vals,11 - len(current_ratings)))\n",
        "limit = 0\n",
        "for i in range(len(possible_combinations)):\n",
        "  possible_combinations[i] = list(possible_combinations[i]) + current_ratings\n",
        "  possible_combinations[i].sort()\n",
        "  contains_current_ratings = all(elem in possible_combinations[i] for elem in current_ratings)\n",
        "  if contains_current_ratings:\n",
        "    avg = np.sum(possible_combinations[i]) / 11\n",
        "    new_sum = 0\n",
        "    for j in possible_combinations[i]:\n",
        "      if j > avg:\n",
        "        new_sum += j - avg\n",
        "    total_sum = floor(np.sum(possible_combinations[i]) + new_sum)\n",
        "    final_rating = floor(total_sum / 11)\n",
        "    if final_rating == desired_rating and limit < 20:\n",
        "      print(possible_combinations[i])\n",
        "      limit += 1\n",
        "    \n"
      ],
      "metadata": {
        "colab": {
          "base_uri": "https://localhost:8080/"
        },
        "id": "C3rpf2LvV-Xb",
        "outputId": "34096235-139b-4bf4-84f0-db07c4fbc49d"
      },
      "execution_count": 106,
      "outputs": [
        {
          "output_type": "stream",
          "name": "stdout",
          "text": [
            "Input desired rating\n",
            "90\n",
            "[86, 89, 89, 89, 89, 89, 89, 89, 91, 92, 92]\n",
            "[87, 88, 89, 89, 89, 89, 89, 89, 91, 92, 92]\n",
            "[87, 89, 89, 89, 89, 89, 89, 89, 91, 92, 92]\n",
            "[88, 88, 88, 89, 89, 89, 89, 89, 91, 92, 92]\n",
            "[88, 88, 89, 89, 89, 89, 89, 89, 91, 92, 92]\n",
            "[88, 89, 89, 89, 89, 89, 89, 89, 91, 92, 92]\n",
            "[89, 89, 89, 89, 89, 89, 89, 89, 91, 92, 92]\n"
          ]
        }
      ]
    },
    {
      "cell_type": "code",
      "source": [
        ""
      ],
      "metadata": {
        "id": "6IG-LFineUDM"
      },
      "execution_count": null,
      "outputs": []
    }
  ]
}